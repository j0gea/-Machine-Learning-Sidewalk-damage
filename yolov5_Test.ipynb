{
  "cells": [
    {
      "cell_type": "markdown",
      "metadata": {
        "id": "view-in-github",
        "colab_type": "text"
      },
      "source": [
        "<a href=\"https://colab.research.google.com/github/j0gea/Machine-Learning-Sidewalk-damage/blob/main/yolov5_Test.ipynb\" target=\"_parent\"><img src=\"https://colab.research.google.com/assets/colab-badge.svg\" alt=\"Open In Colab\"/></a>"
      ]
    },
    {
      "cell_type": "code",
      "execution_count": 1,
      "metadata": {
        "colab": {
          "base_uri": "https://localhost:8080/"
        },
        "id": "JTCXujHi5eQ3",
        "outputId": "b596b7ea-ca69-4279-b72c-e167af1d096e",
        "collapsed": true
      },
      "outputs": [
        {
          "output_type": "stream",
          "name": "stdout",
          "text": [
            "Mounted at /content/drive\n"
          ]
        }
      ],
      "source": [
        "# 드라이브 마운트\n",
        "from google.colab import drive\n",
        "drive.mount('/content/drive')"
      ]
    },
    {
      "cell_type": "markdown",
      "metadata": {
        "id": "WxXO-9gw2ZrC"
      },
      "source": [
        "### 구글 드라이브 파일 압축풀기\n",
        "\n",
        "- s 는 추가파일이라 할 필요 x"
      ]
    },
    {
      "cell_type": "code",
      "execution_count": null,
      "metadata": {
        "id": "QRT9yLJQ-kWQ"
      },
      "outputs": [],
      "source": [
        "%cd /content/drive/MyDrive/yolov5/DATA/"
      ]
    },
    {
      "cell_type": "code",
      "execution_count": null,
      "metadata": {
        "id": "KNwCRetNHqXX"
      },
      "outputs": [],
      "source": [
        "!ls"
      ]
    },
    {
      "cell_type": "code",
      "execution_count": null,
      "metadata": {
        "id": "8MzPZYN22eWB"
      },
      "outputs": [],
      "source": [
        "# 라벨 파일 압축풀기\n",
        "%cd /content/drive/MyDrive/yolov5/DATA/label_temp\n",
        "\n",
        "!unzip -qq \"/content/drive/MyDrive/yolov5/DATA/"
      ]
    },
    {
      "cell_type": "code",
      "execution_count": null,
      "metadata": {
        "colab": {
          "background_save": true
        },
        "id": "D4J3HszKfqpg"
      },
      "outputs": [],
      "source": [
        "# 그림 파일 압축풀기\n",
        "%cd /content/drive/MyDrive/yolov5/DATA/data/images\n",
        "\n",
        "!unzip -qq \"/content/drive/MyDrive/yolov5/DATA/"
      ]
    },
    {
      "cell_type": "code",
      "execution_count": null,
      "metadata": {
        "id": "Nu5QV6uQRWXX"
      },
      "outputs": [],
      "source": [
        "# 파일 개수\n",
        "!ls -l | grep ^- | wc -l"
      ]
    },
    {
      "cell_type": "code",
      "execution_count": null,
      "metadata": {
        "id": "_ROalFoN-xex"
      },
      "outputs": [],
      "source": [
        "# 파일 삭제\n",
        "# !rm -rf ./*.txt\n",
        "# !rm -rf ./*.json"
      ]
    },
    {
      "cell_type": "markdown",
      "metadata": {
        "id": "zCLe1f8n2TNs"
      },
      "source": [
        "### YOLOv5 설치"
      ]
    },
    {
      "cell_type": "markdown",
      "metadata": {
        "id": "7dN0l0MUCjYa"
      },
      "source": [
        "yolov5 설정"
      ]
    },
    {
      "cell_type": "code",
      "execution_count": null,
      "metadata": {
        "id": "YB82ljlkf101"
      },
      "outputs": [],
      "source": [
        "%cd 설치 폴더로 이동"
      ]
    },
    {
      "cell_type": "code",
      "execution_count": null,
      "metadata": {
        "id": "qrNjhwrQeptM"
      },
      "outputs": [],
      "source": [
        "!git clone https://github.com/ultralytics/yolov5.git"
      ]
    },
    {
      "cell_type": "code",
      "execution_count": null,
      "metadata": {
        "id": "xg1EF2Peev3x"
      },
      "outputs": [],
      "source": [
        "%cd yolov5"
      ]
    },
    {
      "cell_type": "code",
      "execution_count": null,
      "metadata": {
        "id": "hFqjlvpDe1qy"
      },
      "outputs": [],
      "source": [
        "! pip install -r requirements.txt"
      ]
    },
    {
      "cell_type": "markdown",
      "metadata": {
        "id": "2WoZfMBqplmZ"
      },
      "source": [
        "## YOLOv5 Colab\n",
        "- https://velog.io/@jiiina/YOLO-Colab\n",
        "- https://clap0107.tistory.com/5\n",
        "- 저거써볼거임\n",
        "\n",
        "- 생각해보니 JSON 파일도 함께 사용해야함\n",
        "- https://velog.io/@1-june/YOLOv5%EC%97%90%EA%B2%8C-%EC%83%88%EB%A1%9C%EC%9A%B4-%EA%B2%83-%EA%B0%80%EB%A5%B4%EC%B3%90%EB%B3%B4%EA%B8%B0\n",
        "- https://docs.ultralytics.com/yolov5/tutorials/train_custom_data/#local-logging"
      ]
    },
    {
      "cell_type": "code",
      "execution_count": null,
      "metadata": {
        "id": "Y3pOAT2eplQ-"
      },
      "outputs": [],
      "source": [
        "# 런타임 > 런타임 유형 변경> 하드웨어 가속기에서 GPU를 선택\n",
        "# GPU 제대로 잡히는지 확인"
      ]
    },
    {
      "cell_type": "markdown",
      "metadata": {
        "id": "skA7uFIJulkC"
      },
      "source": [
        "### 전처리\n"
      ]
    },
    {
      "cell_type": "markdown",
      "metadata": {
        "id": "YSfaLf5uO0Ek"
      },
      "source": [
        "#### 보도파손 이미지만 따로 저장"
      ]
    },
    {
      "cell_type": "code",
      "execution_count": null,
      "metadata": {
        "id": "q4Nen3qXLSJI"
      },
      "outputs": [],
      "source": [
        "def move_file_broken(destination_folder, json_data, json_file):\n",
        "  num = 0\n",
        "\n",
        "  for i in json_data['annotations']:\n",
        "    if i['category_id'] == 'flatness_D' or i['category_id'] == 'flatness_E' or i['category_id'] == 'block_state_broken' or i['category_id'] == 'block_kind_bad':\n",
        "        #print(json_file)\n",
        "        #print()\n",
        "        #print(os.path.join(jfolder, j))\n",
        "        #print( os.path.join(dfolder, \"image\", \"json_file\"))\n",
        "\n",
        "        # JSON 파일\n",
        "        shutil.copyfile(os.path.join(jfolder, json_file), os.path.join(dfolder, \"label_temp\", json_file))\n",
        "        # img 파일\n",
        "        shutil.copyfile(os.path.join(ifolder, json_file[0:-4]+\"jpg\"), os.path.join(dfolder, \"images\", json_file[0:-4]+\"jpg\"))\n",
        "\n",
        "        num = 1\n",
        "        region_num = 0\n",
        "\n",
        "  return num"
      ]
    },
    {
      "cell_type": "code",
      "execution_count": null,
      "metadata": {
        "id": "iGbxzd_MLo5U"
      },
      "outputs": [],
      "source": [
        "import shutil\n",
        "\n",
        "jfolder = \"/content/drive/MyDrive/yolov5/DATA/label_temp\"\n",
        "ifolder = \"/content/drive/MyDrive/yolov5/DATA/data/images\"\n",
        "\n",
        "dfolder = \"/content/drive/MyDrive/yolov5/DATA/brokenData\"\n",
        "\n",
        "n=1\n",
        "m=0\n",
        "for j in jsons:\n",
        "  with open(os.path.join(jfolder, j)) as json_file:\n",
        "    json_data = json.load(json_file)\n",
        "    m = m + move_file_broken(dfolder, json_data, j)\n",
        "    print(m, \"/\",n,\"/\",len(jsons))\n",
        "    n+1"
      ]
    },
    {
      "cell_type": "markdown",
      "metadata": {
        "id": "wnnbf9gWuurg"
      },
      "source": [
        "#### 라벨 to txt"
      ]
    },
    {
      "cell_type": "markdown",
      "metadata": {
        "id": "gPlEi_HbQ9Kj"
      },
      "source": [
        "txt 변환\n",
        "- 참고\n",
        "- https://velog.io/@1-june/YOLOv5%EC%97%90%EA%B2%8C-%EC%83%88%EB%A1%9C%EC%9A%B4-%EA%B2%83-%EA%B0%80%EB%A5%B4%EC%B3%90%EB%B3%B4%EA%B8%B0\n",
        "- https://minmiin.tistory.com/14"
      ]
    },
    {
      "cell_type": "code",
      "execution_count": null,
      "metadata": {
        "id": "EAzYSxxd1qqT"
      },
      "outputs": [],
      "source": [
        "import re\n",
        "import json\n",
        "import os\n",
        "import csv\n",
        "import shutil\n",
        "\n",
        "training_labels_folder = \"/content/drive/MyDrive/yolov5/DATA/label_temp\"\n",
        "jsons = []\n",
        "\n",
        "#for f in os.listdir(training_images_folder):\n",
        "#  jsons.append(f[0:-3]+\"json\")\n",
        "\n",
        "for f in os.listdir(training_labels_folder):\n",
        "  jsons.append(f)\n",
        "\n",
        "len(jsons)"
      ]
    },
    {
      "cell_type": "code",
      "execution_count": null,
      "metadata": {
        "id": "gq4nbV6SZcXJ"
      },
      "outputs": [],
      "source": [
        "def save_as_yolo_format(destination_folder, json_data):\n",
        "  num = 0\n",
        "  img_width = json_data['images']['width'] # JSON 파일에서 이미지의 width 값이 있는 곳\n",
        "  img_height = json_data['images']['height'] # JSON 파일에서 이미지의 height 값이 있는 곳\n",
        "\n",
        "  yolov5_format_list = []\n",
        "  for i in json_data['annotations']:\n",
        "    if i['category_id'] == 'flatness_D' or i['category_id'] == 'flatness_E' or i['category_id'] == 'block_state_broken' or i['category_id'] == 'block_kind_bad':\n",
        "        num = 1\n",
        "        region_num = 0\n",
        "        xmax = -1; xmin = 5000; ymax = -1; ymin = 5000\n",
        "        for x, y in (i['segmentation']):\n",
        "          if (x > xmax): xmax = x\n",
        "          if (x < xmin): xmin = x\n",
        "          if (y > ymax): ymax = y\n",
        "          if (y < ymin): ymin = y\n",
        "\n",
        "        xcentre = ((xmax + xmin) / 2) / json_data['images']['width']\n",
        "        ycentre = ((ymax + ymin) / 2) / json_data['images']['height']\n",
        "        bbox_width = (xmax - xmin) / json_data['images']['width']\n",
        "        bbox_height = (ymax - ymin) / json_data['images']['height']\n",
        "        yolov5_format = [region_num, xcentre, ycentre, bbox_width, bbox_height]\n",
        "        yolov5_format_list.append(yolov5_format)\n",
        "\n",
        "  file = open(os.path.join(destination_folder, re.sub(r'[^.]+$', 'txt', json_data['images']['file_name'])), 'w', newline='') # 파일명\n",
        "  with file:\n",
        "      write = csv.writer(file, delimiter= ' ')\n",
        "      write.writerows(yolov5_format_list)\n",
        "  return num"
      ]
    },
    {
      "cell_type": "code",
      "execution_count": null,
      "metadata": {
        "id": "OEr5fyU2GOiE"
      },
      "outputs": [],
      "source": [
        "destination_folder = \"/content/drive/MyDrive/yolov5/DATA/data/labels\"\n",
        "\n",
        "n=1\n",
        "m=0\n",
        "for j in jsons:\n",
        "  with open(os.path.join(training_labels_folder, j)) as json_file:\n",
        "    json_data = json.load(json_file)\n",
        "    m = m + save_as_yolo_format(destination_folder, json_data)\n",
        "    print(m, \"/\",n,\"/\",len(jsons))\n",
        "    n=n+1"
      ]
    },
    {
      "cell_type": "markdown",
      "metadata": {
        "id": "wLPxHoJPcqXx"
      },
      "source": [
        "##### 둘 다 합친 버전"
      ]
    },
    {
      "cell_type": "code",
      "execution_count": null,
      "metadata": {
        "id": "ispQ2M_Qcpps"
      },
      "outputs": [],
      "source": [
        "import re\n",
        "import json\n",
        "import os\n",
        "import csv\n",
        "import shutil\n",
        "\n",
        "training_labels_folder = \"/content/drive/MyDrive/yolov5/DATA/label_temp\"\n",
        "jsons = []\n",
        "\n",
        "for f in os.listdir(training_labels_folder):\n",
        "  jsons.append(f)\n",
        "\n",
        "len(jsons)"
      ]
    },
    {
      "cell_type": "code",
      "execution_count": null,
      "metadata": {
        "id": "InDGlyhja5kA"
      },
      "outputs": [],
      "source": [
        "ifolder = \"/content/drive/MyDrive/yolov5/DATA/data/images\"\n",
        "dfolder = \"/content/drive/MyDrive/yolov5/DATA/brokenData\"\n",
        "jfolder = \"/content/drive/MyDrive/yolov5/DATA/label_temp\"\n",
        "\n",
        "destination_folder = \"/content/drive/MyDrive/yolov5/DATA/data/labels\""
      ]
    },
    {
      "cell_type": "code",
      "execution_count": null,
      "metadata": {
        "id": "OkSzAAKN26ee"
      },
      "outputs": [],
      "source": [
        "def save_and_move(destination_folder, json_data, json_file):\n",
        "  num = 0\n",
        "  img_width = json_data['images']['width'] # JSON 파일에서 이미지의 width 값이 있는 곳\n",
        "  img_height = json_data['images']['height'] # JSON 파일에서 이미지의 height 값이 있는 곳\n",
        "\n",
        "  yolov5_format_list = []\n",
        "  for i in json_data['annotations']:\n",
        "    if i['category_id'] == 'flatness_D' or i['category_id'] == 'flatness_E' or i['category_id'] == 'block_state_broken' or i['category_id'] == 'block_kind_bad':\n",
        "        num = 1\n",
        "        region_num = 0\n",
        "        xmax = -1; xmin = 5000; ymax = -1; ymin = 5000\n",
        "        for x, y in (i['segmentation']):\n",
        "          if (x > xmax): xmax = x\n",
        "          if (x < xmin): xmin = x\n",
        "          if (y > ymax): ymax = y\n",
        "          if (y < ymin): ymin = y\n",
        "\n",
        "        xcentre = ((xmax + xmin) / 2) / json_data['images']['width']\n",
        "        ycentre = ((ymax + ymin) / 2) / json_data['images']['height']\n",
        "        bbox_width = (xmax - xmin) / json_data['images']['width']\n",
        "        bbox_height = (ymax - ymin) / json_data['images']['height']\n",
        "        yolov5_format = [region_num, xcentre, ycentre, bbox_width, bbox_height]\n",
        "        yolov5_format_list.append(yolov5_format)\n",
        "\n",
        "        # JSON 파일\n",
        "        shutil.copyfile(os.path.join(jfolder, json_file), os.path.join(dfolder, \"label_temp\", json_file))\n",
        "        # img 파일\n",
        "        shutil.copyfile(os.path.join(ifolder, json_file[0:-4]+\"jpg\"), os.path.join(dfolder, \"images\", json_file[0:-4]+\"jpg\"))\n",
        "\n",
        "        file2 = open(os.path.join(\"/content/drive/MyDrive/yolov5/DATA/brokenData/labels\", re.sub(r'[^.]+$', 'txt', json_data['images']['file_name'])), 'w', newline='') # 파일명\n",
        "        with file2:\n",
        "          write = csv.writer(file2, delimiter= ' ')\n",
        "          write.writerows(yolov5_format_list)\n",
        "\n",
        "  file = open(os.path.join(destination_folder, re.sub(r'[^.]+$', 'txt', json_data['images']['file_name'])), 'w', newline='') # 파일명\n",
        "  with file:\n",
        "      write = csv.writer(file, delimiter= ' ')\n",
        "      write.writerows(yolov5_format_list)\n",
        "\n",
        "\n",
        "\n",
        "  return num"
      ]
    },
    {
      "cell_type": "code",
      "execution_count": null,
      "metadata": {
        "id": "JYp_5ywyZWcN"
      },
      "outputs": [],
      "source": [
        "# 둘 다 합친 버전\n",
        "ifolder = \"/content/drive/MyDrive/yolov5/DATA/data/images\"\n",
        "dfolder = \"/content/drive/MyDrive/yolov5/DATA/brokenData\"\n",
        "jfolder = \"/content/drive/MyDrive/yolov5/DATA/label_temp\"\n",
        "\n",
        "destination_folder = \"/content/drive/MyDrive/yolov5/DATA/data/labels\"\n",
        "\n",
        "n=1\n",
        "m=0\n",
        "for j in jsons:\n",
        "  with open(os.path.join(training_labels_folder, j)) as json_file:\n",
        "    json_data = json.load(json_file)\n",
        "    m = m + save_and_move(destination_folder, json_data, j)\n",
        "    print(m, \"/\",n,\"/\",len(jsons))\n",
        "    n=n+1"
      ]
    },
    {
      "cell_type": "code",
      "execution_count": null,
      "metadata": {
        "id": "AXnhGeDjxrf3"
      },
      "outputs": [],
      "source": [
        "# 테스트코드\n",
        "\n",
        "import json\n",
        "import csv\n",
        "import os\n",
        "from PIL import Image, ImageDraw\n",
        "import cv2\n",
        "import matplotlib.pyplot as plt\n",
        "%matplotlib inline\n",
        "\n",
        "img_path = \"/content/drive/MyDrive/yolov5/DATA/brokenData/images/DC0109_2020-12-09 105819_00.jpg\"\n",
        "img = cv2.imread(img_path)\n",
        "img = cv2.cvtColor(img, cv2.COLOR_BGR2RGB)\n",
        "\n",
        "draw_img = Image.fromarray(img)\n",
        "draw = ImageDraw.Draw(draw_img)\n",
        "\n",
        "img_width = img.shape[1]\n",
        "img_height = img.shape[0]\n",
        "print(img_width, img_height)\n",
        "\n",
        "with open(\"/content/drive/MyDrive/yolov5/DATA/brokenData/labels/DC0109_2020-12-09 105819_00.txt\") as f:\n",
        "    csv_reader = csv.reader(f, delimiter=' ')\n",
        "    for row in csv_reader:\n",
        "        xcentre = float(row[1]) * img_width\n",
        "        ycentre = float(row[2]) * img_height\n",
        "        bbox_width = float(row[3]) * img_width\n",
        "        bbox_height = float(row[4]) * img_height\n",
        "        x0 = xcentre - bbox_width/2\n",
        "        x1 = xcentre + bbox_width/2\n",
        "        y0 = ycentre - bbox_height/2\n",
        "        y1 = ycentre + bbox_height/2\n",
        "\n",
        "        draw.rectangle([x0, y0, x1, y1], outline='white', width=2)\n",
        "\n",
        "plt.figure(figsize=(20, 10))\n",
        "plt.imshow(draw_img)"
      ]
    },
    {
      "cell_type": "markdown",
      "metadata": {
        "id": "LZNxYAXVvCFO"
      },
      "source": [
        "#### train / val 나누기"
      ]
    },
    {
      "cell_type": "code",
      "execution_count": null,
      "metadata": {
        "colab": {
          "base_uri": "https://localhost:8080/"
        },
        "id": "98YmYaS0siAw",
        "outputId": "22e31906-1bef-4d3f-cf10-4a4bc7c0de4a"
      },
      "outputs": [
        {
          "output_type": "stream",
          "name": "stdout",
          "text": [
            "7153\n"
          ]
        }
      ],
      "source": [
        "# 먼저 export파일 안에 있는 이미지들을 list로 만들어준다.\n",
        "from glob import glob\n",
        "img_list = glob('/content/drive/MyDrive/yolov5/DATA/brokenData/images/*.jpg')\n",
        "print(len(img_list))"
      ]
    },
    {
      "cell_type": "code",
      "execution_count": null,
      "metadata": {
        "colab": {
          "base_uri": "https://localhost:8080/"
        },
        "id": "1ICGEB_30JkG",
        "outputId": "9a66a2a3-f077-4831-edf9-6d6e4ecd3a02"
      },
      "outputs": [
        {
          "output_type": "stream",
          "name": "stdout",
          "text": [
            "5722 1431\n"
          ]
        }
      ],
      "source": [
        "# 다음에 img_list를 train set과 valid set으로 나눠준다.\n",
        "\n",
        "from sklearn.model_selection import train_test_split\n",
        "\n",
        "train_img_list, val_img_list = train_test_split(img_list, test_size = 0.2, random_state = 2000)\n",
        "print(len(train_img_list), len(val_img_list))"
      ]
    },
    {
      "cell_type": "code",
      "execution_count": null,
      "metadata": {
        "id": "saxIZUHpPNpO"
      },
      "outputs": [],
      "source": [
        "file = open(\"/content/drive/MyDrive/yolov5/DATA/train.txt\", 'w', newline='') # 파일명\n",
        "for i in train_img_list:\n",
        "    file.write(i+\"\\n\")\n",
        "#for i in train_label_list:\n",
        "#    file.write(i+\"\\n\")\n",
        "file.close()"
      ]
    },
    {
      "cell_type": "code",
      "execution_count": null,
      "metadata": {
        "id": "6Haxmk-qQPfO"
      },
      "outputs": [],
      "source": [
        "file = open(\"/content/drive/MyDrive/yolov5/DATA/valid.txt\", 'w', newline='') # 파일명\n",
        "for i in val_img_list:\n",
        "    file.write(i+\"\\n\")\n",
        "#for i in val_label_list:\n",
        "#    file.write(i+\"\\n\")\n",
        "file.close()"
      ]
    },
    {
      "cell_type": "markdown",
      "metadata": {
        "id": "W5TF1OuxvVbx"
      },
      "source": [
        "#### yaml 파일 생성"
      ]
    },
    {
      "cell_type": "code",
      "execution_count": null,
      "metadata": {
        "colab": {
          "base_uri": "https://localhost:8080/"
        },
        "id": "8X6-UZRlk-Ot",
        "outputId": "823f268a-33a5-4551-ce3a-280b721ac920"
      },
      "outputs": [
        {
          "output_type": "stream",
          "name": "stdout",
          "text": [
            "/content/drive/MyDrive/yolov5/DATA\n"
          ]
        }
      ],
      "source": [
        "%cd /content/drive/MyDrive/yolov5/DATA"
      ]
    },
    {
      "cell_type": "code",
      "execution_count": null,
      "metadata": {
        "id": "D6d7eo3xFsum"
      },
      "outputs": [],
      "source": [
        "import yaml\n",
        "\n",
        "yaml_data = {\"names\":['broken'], # 클래스 이름\n",
        "             \"nc\":1, # 클래스 수\n",
        "             \"path\":\"/content/drive/MyDrive/yolov5/DATA/data\", # root 경로\n",
        "             \"train\":(\"train.txt\"), # train.txt 경로\n",
        "             \"val\":(\"valid.txt\"), # valid.txt 경로\n",
        "             # \"test\":os.path.join(root_dir,\"test.txt\") # test.txt 경로\n",
        "             }\n",
        "\n",
        "with open((\"custom.yaml\"), \"w\") as f:\n",
        "  yaml.dump(yaml_data, f)"
      ]
    },
    {
      "cell_type": "markdown",
      "metadata": {
        "id": "4-VPy8Hur8eJ"
      },
      "source": [
        "### 실행"
      ]
    },
    {
      "cell_type": "markdown",
      "metadata": {
        "id": "Au6g3Q4irri9"
      },
      "source": [
        "#### wandb 사용\n",
        "- https://lynnshin.tistory.com/47 참고\n",
        "- https://wandb.ai/site\n",
        "- https://colab.research.google.com/github/wandb/examples/blob/master/colabs/intro/Intro_to_Weights_%26_Biases.ipynb\n",
        "- https://docs.wandb.ai/guides/integrations/yolov5"
      ]
    },
    {
      "cell_type": "code",
      "execution_count": null,
      "metadata": {
        "id": "GUC3P7Eprx8d"
      },
      "outputs": [],
      "source": [
        "# 설치\n",
        "!pip install wandb"
      ]
    },
    {
      "cell_type": "markdown",
      "metadata": {
        "id": "lZ0tCPL_vbcZ"
      },
      "source": [
        "#### YOLOv5 실행\n",
        "- 각 파라메터 뜻 https://ropiens.tistory.com/44\n",
        "- https://github.com/ultralytics/yolov5/blob/master/data/coco128.yaml\n",
        "- https://sguys99.github.io/ds01\n",
        "\n",
        "GPU 사용량\n",
        "- https://github.com/ultralytics/yolov5/issues/8397\n",
        "\n",
        "wandb 사용\n",
        "- https://lynnshin.tistory.com/47#google_vignette"
      ]
    },
    {
      "cell_type": "code",
      "execution_count": null,
      "metadata": {
        "id": "Uy3yjEfRkV1R"
      },
      "outputs": [],
      "source": [
        "%cd /content/drive/MyDrive/yolov5/YOLO/yolov5"
      ]
    },
    {
      "cell_type": "code",
      "execution_count": null,
      "metadata": {
        "id": "XWGSNPJOE3s2"
      },
      "outputs": [],
      "source": [
        "!python train.py \\\n",
        "  --img 416 \\\n",
        "  --batch 16 \\\n",
        "  --epochs 100 --save-period 1 \\\n",
        "  --data /content/drive/MyDrive/yolov5/DATA/custom.yaml \\\n",
        "  --cfg ./models/yolov5m.yaml \\\n",
        "  --weights /content/drive/MyDrive/yolov5/YOLO/yolov5/runs/train/results18/weights/best.pt \\\n",
        "  --name results \\\n",
        "  --bbox_interval 1"
      ]
    },
    {
      "cell_type": "code",
      "execution_count": null,
      "metadata": {
        "id": "1S1vvqKGxNCp"
      },
      "outputs": [],
      "source": [
        "# 테스트\n",
        "!python detect.py --weights /content/drive/MyDrive/yolov5/YOLO/yolov5/runs/train/results12/weights/best.pt --source /content/drive/MyDrive/yolov5/DATA/test/20200106_1_86557.jpg"
      ]
    },
    {
      "cell_type": "code",
      "source": [
        "# https://medium.com/@elvenkim1/how-to-convert-yolov5-to-tflite-523925d4704d\n",
        "# 텐서플로우 라이트로 변환\n",
        "!python export.py --weights /content/drive/MyDrive/yolov5/YOLO/yolov5/runs/train/results18/weights/best.pt --include tflite"
      ],
      "metadata": {
        "id": "37-qIaD2PW0w"
      },
      "execution_count": null,
      "outputs": []
    }
  ],
  "metadata": {
    "accelerator": "GPU",
    "colab": {
      "collapsed_sections": [
        "zCLe1f8n2TNs"
      ],
      "gpuType": "T4",
      "provenance": [],
      "include_colab_link": true
    },
    "kernelspec": {
      "display_name": "Python 3",
      "name": "python3"
    },
    "language_info": {
      "name": "python"
    }
  },
  "nbformat": 4,
  "nbformat_minor": 0
}