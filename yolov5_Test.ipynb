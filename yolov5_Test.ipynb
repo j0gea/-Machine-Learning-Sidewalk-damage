{
  "nbformat": 4,
  "nbformat_minor": 0,
  "metadata": {
    "colab": {
      "provenance": [],
      "gpuType": "T4",
      "collapsed_sections": [
        "zCLe1f8n2TNs"
      ],
      "include_colab_link": true
    },
    "kernelspec": {
      "name": "python3",
      "display_name": "Python 3"
    },
    "language_info": {
      "name": "python"
    },
    "accelerator": "GPU"
  },
  "cells": [
    {
      "cell_type": "markdown",
      "metadata": {
        "id": "view-in-github",
        "colab_type": "text"
      },
      "source": [
        "<a href=\"https://colab.research.google.com/github/j0gea/Machine-Learning-Sidewalk-damage/blob/main/yolov5_Test.ipynb\" target=\"_parent\"><img src=\"https://colab.research.google.com/assets/colab-badge.svg\" alt=\"Open In Colab\"/></a>"
      ]
    },
    {
      "cell_type": "code",
      "source": [
        "# 드라이브 마운트\n",
        "from google.colab import drive\n",
        "drive.mount('/content/drive')"
      ],
      "metadata": {
        "id": "JTCXujHi5eQ3"
      },
      "execution_count": null,
      "outputs": []
    },
    {
      "cell_type": "markdown",
      "source": [
        "### 구글 드라이브 파일 압축풀기\n",
        "\n",
        "- s 는 추가파일이라 할 필요 x"
      ],
      "metadata": {
        "id": "WxXO-9gw2ZrC"
      }
    },
    {
      "cell_type": "code",
      "source": [
        "%cd /content/drive/MyDrive/yolov5/DATA/베리어프리존(장애물 없는 생활공간) 주행영상"
      ],
      "metadata": {
        "id": "QRT9yLJQ-kWQ"
      },
      "execution_count": null,
      "outputs": []
    },
    {
      "cell_type": "code",
      "source": [
        "!ls"
      ],
      "metadata": {
        "id": "KNwCRetNHqXX"
      },
      "execution_count": null,
      "outputs": []
    },
    {
      "cell_type": "code",
      "source": [
        "# 라벨 파일 압축풀기\n",
        "%cd /content/drive/MyDrive/yolov5/DATA/label_temp\n",
        "\n",
        "!unzip -qq \"/content/drive/MyDrive/yolov5/DATA/베리어프리존(장애물 없는 생활공간) 주행영상/[라벨]1.동부산실외_베리어프리객체_1.zip\""
      ],
      "metadata": {
        "id": "8MzPZYN22eWB"
      },
      "execution_count": null,
      "outputs": []
    },
    {
      "cell_type": "code",
      "source": [
        "# 그림 파일 압축풀기\n",
        "%cd /content/drive/MyDrive/yolov5/DATA/data/images\n",
        "\n",
        "!unzip -qq \"/content/drive/MyDrive/yolov5/DATA/베리어프리존(장애물 없는 생활공간) 주행영상/[원천]1.동부산실외_베리어프리객체_1.zip\""
      ],
      "metadata": {
        "id": "D4J3HszKfqpg"
      },
      "execution_count": null,
      "outputs": []
    },
    {
      "cell_type": "code",
      "source": [
        "# 파일 개수\n",
        "!ls -l | grep ^- | wc -l"
      ],
      "metadata": {
        "id": "Nu5QV6uQRWXX"
      },
      "execution_count": null,
      "outputs": []
    },
    {
      "cell_type": "code",
      "source": [
        "# 파일 삭제\n",
        "# !rm -rf ./*.txt\n",
        "# !rm -rf ./*.json"
      ],
      "metadata": {
        "id": "_ROalFoN-xex"
      },
      "execution_count": null,
      "outputs": []
    },
    {
      "cell_type": "markdown",
      "source": [
        "### YOLOv5 설치"
      ],
      "metadata": {
        "id": "zCLe1f8n2TNs"
      }
    },
    {
      "cell_type": "markdown",
      "source": [
        "yolov5 설정"
      ],
      "metadata": {
        "id": "7dN0l0MUCjYa"
      }
    },
    {
      "cell_type": "code",
      "source": [
        "%cd 설치 폴더로 이동"
      ],
      "metadata": {
        "id": "YB82ljlkf101"
      },
      "execution_count": null,
      "outputs": []
    },
    {
      "cell_type": "code",
      "source": [
        "!git clone https://github.com/ultralytics/yolov5.git"
      ],
      "metadata": {
        "id": "qrNjhwrQeptM"
      },
      "execution_count": null,
      "outputs": []
    },
    {
      "cell_type": "code",
      "source": [
        "%cd yolov5"
      ],
      "metadata": {
        "id": "xg1EF2Peev3x"
      },
      "execution_count": null,
      "outputs": []
    },
    {
      "cell_type": "code",
      "source": [
        "! pip install -r requirements.txt"
      ],
      "metadata": {
        "id": "hFqjlvpDe1qy"
      },
      "execution_count": null,
      "outputs": []
    },
    {
      "cell_type": "markdown",
      "source": [
        "## YOLOv5 Colab\n",
        "- https://velog.io/@jiiina/YOLO-Colab\n",
        "- https://clap0107.tistory.com/5\n",
        "- 저거써볼거임\n",
        "\n",
        "- 생각해보니 JSON 파일도 함께 사용해야함\n",
        "- https://velog.io/@1-june/YOLOv5%EC%97%90%EA%B2%8C-%EC%83%88%EB%A1%9C%EC%9A%B4-%EA%B2%83-%EA%B0%80%EB%A5%B4%EC%B3%90%EB%B3%B4%EA%B8%B0\n",
        "- https://docs.ultralytics.com/yolov5/tutorials/train_custom_data/#local-logging"
      ],
      "metadata": {
        "id": "2WoZfMBqplmZ"
      }
    },
    {
      "cell_type": "code",
      "source": [
        "# 런타임 > 런타임 유형 변경> 하드웨어 가속기에서 GPU를 선택\n",
        "# GPU 제대로 잡히는지 확인"
      ],
      "metadata": {
        "id": "Y3pOAT2eplQ-"
      },
      "execution_count": null,
      "outputs": []
    },
    {
      "cell_type": "markdown",
      "source": [
        "### YOLO 실행"
      ],
      "metadata": {
        "id": "skA7uFIJulkC"
      }
    },
    {
      "cell_type": "code",
      "source": [
        "# 어차피 여기서 다시입히기때문에 사진 크기 작게 하고 비율로 해도 될것같음"
      ],
      "metadata": {
        "id": "iKhD4g9lmewb"
      },
      "execution_count": null,
      "outputs": []
    },
    {
      "cell_type": "markdown",
      "source": [
        "#### 보도파손 이미지만 따로 저장"
      ],
      "metadata": {
        "id": "YSfaLf5uO0Ek"
      }
    },
    {
      "cell_type": "code",
      "source": [
        "def move_file_broken(destination_folder, json_data, json_file):\n",
        "  num = 0\n",
        "\n",
        "  for i in json_data['annotations']:\n",
        "    if i['category_id'] == 'flatness_D' or i['category_id'] == 'flatness_E' or i['category_id'] == 'block_state_broken' or i['category_id'] == 'block_kind_bad':\n",
        "        #print(json_file)\n",
        "        #print()\n",
        "        #print(os.path.join(jfolder, j))\n",
        "        #print( os.path.join(dfolder, \"image\", \"json_file\"))\n",
        "\n",
        "        # JSON 파일\n",
        "        shutil.copyfile(os.path.join(jfolder, json_file), os.path.join(dfolder, \"label_temp\", json_file))\n",
        "        # img 파일\n",
        "        shutil.copyfile(os.path.join(ifolder, json_file[0:-4]+\"jpg\"), os.path.join(dfolder, \"images\", json_file[0:-4]+\"jpg\"))\n",
        "\n",
        "        num = 1\n",
        "        region_num = 0\n",
        "\n",
        "  return num"
      ],
      "metadata": {
        "id": "q4Nen3qXLSJI"
      },
      "execution_count": null,
      "outputs": []
    },
    {
      "cell_type": "code",
      "source": [
        "import shutil\n",
        "\n",
        "jfolder = \"/content/drive/MyDrive/yolov5/DATA/label_temp\"\n",
        "ifolder = \"/content/drive/MyDrive/yolov5/DATA/data/images\"\n",
        "\n",
        "dfolder = \"/content/drive/MyDrive/yolov5/DATA/brokenData\"\n",
        "\n",
        "n=1\n",
        "m=0\n",
        "for j in jsons:\n",
        "  with open(os.path.join(jfolder, j)) as json_file:\n",
        "    json_data = json.load(json_file)\n",
        "    m = m + move_file_broken(dfolder, json_data, j)\n",
        "    n=n+1\n",
        "print(m, \"/\",n,\"/\",len(jsons))"
      ],
      "metadata": {
        "id": "iGbxzd_MLo5U"
      },
      "execution_count": null,
      "outputs": []
    },
    {
      "cell_type": "markdown",
      "source": [
        "#### 라벨 to txt"
      ],
      "metadata": {
        "id": "wnnbf9gWuurg"
      }
    },
    {
      "cell_type": "markdown",
      "source": [
        "txt 변환\n",
        "- 참고\n",
        "- https://velog.io/@1-june/YOLOv5%EC%97%90%EA%B2%8C-%EC%83%88%EB%A1%9C%EC%9A%B4-%EA%B2%83-%EA%B0%80%EB%A5%B4%EC%B3%90%EB%B3%B4%EA%B8%B0\n",
        "- https://minmiin.tistory.com/14"
      ],
      "metadata": {
        "id": "gPlEi_HbQ9Kj"
      }
    },
    {
      "cell_type": "code",
      "source": [
        "import re\n",
        "import json\n",
        "import os\n",
        "import csv\n",
        "import shutil\n",
        "\n",
        "training_labels_folder = \"/content/drive/MyDrive/yolov5/DATA/label_temp\"\n",
        "jsons = []\n",
        "\n",
        "#for f in os.listdir(training_images_folder):\n",
        "#  jsons.append(f[0:-3]+\"json\")\n",
        "\n",
        "for f in os.listdir(training_labels_folder):\n",
        "  jsons.append(f)\n",
        "\n",
        "len(jsons)"
      ],
      "metadata": {
        "id": "EAzYSxxd1qqT"
      },
      "execution_count": null,
      "outputs": []
    },
    {
      "cell_type": "code",
      "source": [
        "def save_as_yolo_format(destination_folder, json_data):\n",
        "  num = 0\n",
        "  img_width = json_data['images']['width'] # JSON 파일에서 이미지의 width 값이 있는 곳\n",
        "  img_height = json_data['images']['height'] # JSON 파일에서 이미지의 height 값이 있는 곳\n",
        "\n",
        "  yolov5_format_list = []\n",
        "  for i in json_data['annotations']:\n",
        "    if i['category_id'] == 'flatness_D' or i['category_id'] == 'flatness_E' or i['category_id'] == 'block_state_broken' or i['category_id'] == 'block_kind_bad':\n",
        "        num = 1\n",
        "        region_num = 0\n",
        "        xmax = -1; xmin = 5000; ymax = -1; ymin = 5000\n",
        "        for x, y in (i['segmentation']):\n",
        "          if (x > xmax): xmax = x\n",
        "          if (x < xmin): xmin = x\n",
        "          if (y > ymax): ymax = y\n",
        "          if (y < ymin): ymin = y\n",
        "\n",
        "        xcentre = ((xmax + xmin) / 2) / json_data['images']['width']\n",
        "        ycentre = ((ymax + ymin) / 2) / json_data['images']['height']\n",
        "        bbox_width = (xmax - xmin) / json_data['images']['width']\n",
        "        bbox_height = (ymax - ymin) / json_data['images']['height']\n",
        "        yolov5_format = [region_num, xcentre, ycentre, bbox_width, bbox_height]\n",
        "        yolov5_format_list.append(yolov5_format)\n",
        "\n",
        "  file = open(os.path.join(destination_folder, re.sub(r'[^.]+$', 'txt', json_data['images']['file_name'])), 'w', newline='') # 파일명\n",
        "  with file:\n",
        "      write = csv.writer(file, delimiter= ' ')\n",
        "      write.writerows(yolov5_format_list)\n",
        "  return num"
      ],
      "metadata": {
        "id": "OkSzAAKN26ee"
      },
      "execution_count": null,
      "outputs": []
    },
    {
      "cell_type": "code",
      "source": [
        "destination_folder = \"/content/drive/MyDrive/yolov5/DATA/data/labels\"\n",
        "\n",
        "n=1\n",
        "m=0\n",
        "for j in jsons:\n",
        "  with open(os.path.join(training_labels_folder, j)) as json_file:\n",
        "    json_data = json.load(json_file)\n",
        "    m = m + save_as_yolo_format(destination_folder, json_data)\n",
        "    print(m, \"/\",n,\"/\",len(jsons))\n",
        "    n=n+1"
      ],
      "metadata": {
        "id": "OEr5fyU2GOiE"
      },
      "execution_count": null,
      "outputs": []
    },
    {
      "cell_type": "code",
      "source": [
        "# 테스트코드\n",
        "\n",
        "import json\n",
        "import csv\n",
        "import os\n",
        "from PIL import Image, ImageDraw\n",
        "import cv2\n",
        "import matplotlib.pyplot as plt\n",
        "%matplotlib inline\n",
        "\n",
        "img_path = \"/content/drive/MyDrive/yolov5/DATA/brokenData/images/DC0109_2020-12-09 105819_00.jpg\"\n",
        "img = cv2.imread(img_path)\n",
        "img = cv2.cvtColor(img, cv2.COLOR_BGR2RGB)\n",
        "\n",
        "draw_img = Image.fromarray(img)\n",
        "draw = ImageDraw.Draw(draw_img)\n",
        "\n",
        "img_width = img.shape[1]\n",
        "img_height = img.shape[0]\n",
        "print(img_width, img_height)\n",
        "\n",
        "with open(\"/content/drive/MyDrive/yolov5/DATA/brokenData/labels/DC0109_2020-12-09 105819_00.txt\") as f:\n",
        "    csv_reader = csv.reader(f, delimiter=' ')\n",
        "    for row in csv_reader:\n",
        "        xcentre = float(row[1]) * img_width\n",
        "        ycentre = float(row[2]) * img_height\n",
        "        bbox_width = float(row[3]) * img_width\n",
        "        bbox_height = float(row[4]) * img_height\n",
        "        x0 = xcentre - bbox_width/2\n",
        "        x1 = xcentre + bbox_width/2\n",
        "        y0 = ycentre - bbox_height/2\n",
        "        y1 = ycentre + bbox_height/2\n",
        "\n",
        "        draw.rectangle([x0, y0, x1, y1], outline='white', width=2)\n",
        "\n",
        "plt.figure(figsize=(20, 10))\n",
        "plt.imshow(draw_img)"
      ],
      "metadata": {
        "id": "AXnhGeDjxrf3"
      },
      "execution_count": null,
      "outputs": []
    },
    {
      "cell_type": "markdown",
      "source": [
        "#### train / val 나누기"
      ],
      "metadata": {
        "id": "LZNxYAXVvCFO"
      }
    },
    {
      "cell_type": "code",
      "source": [
        "# 먼저 export파일 안에 있는 이미지들을 list로 만들어준다.\n",
        "from glob import glob\n",
        "img_list = glob('/content/drive/MyDrive/yolov5/DATA/brokenData/images/*.jpg')\n",
        "print(len(img_list))"
      ],
      "metadata": {
        "id": "98YmYaS0siAw"
      },
      "execution_count": null,
      "outputs": []
    },
    {
      "cell_type": "code",
      "source": [
        "# 다음에 img_list를 train set과 valid set으로 나눠준다.\n",
        "\n",
        "from sklearn.model_selection import train_test_split\n",
        "\n",
        "train_img_list, val_img_list = train_test_split(img_list, test_size = 0.2, random_state = 2000)\n",
        "print(len(train_img_list), len(val_img_list))"
      ],
      "metadata": {
        "id": "1ICGEB_30JkG"
      },
      "execution_count": null,
      "outputs": []
    },
    {
      "cell_type": "code",
      "source": [
        "file = open(\"/content/drive/MyDrive/yolov5/DATA/train.txt\", 'w', newline='') # 파일명\n",
        "for i in train_img_list:\n",
        "    file.write(i+\"\\n\")\n",
        "#for i in train_label_list:\n",
        "#    file.write(i+\"\\n\")\n",
        "file.close()"
      ],
      "metadata": {
        "id": "saxIZUHpPNpO"
      },
      "execution_count": null,
      "outputs": []
    },
    {
      "cell_type": "code",
      "source": [
        "file = open(\"/content/drive/MyDrive/yolov5/DATA/valid.txt\", 'w', newline='') # 파일명\n",
        "for i in val_img_list:\n",
        "    file.write(i+\"\\n\")\n",
        "#for i in val_label_list:\n",
        "#    file.write(i+\"\\n\")\n",
        "file.close()"
      ],
      "metadata": {
        "id": "6Haxmk-qQPfO"
      },
      "execution_count": null,
      "outputs": []
    },
    {
      "cell_type": "markdown",
      "source": [
        "#### yaml 파일 생성"
      ],
      "metadata": {
        "id": "W5TF1OuxvVbx"
      }
    },
    {
      "cell_type": "code",
      "source": [
        "%cd /content/drive/MyDrive/yolov5/DATA"
      ],
      "metadata": {
        "id": "8X6-UZRlk-Ot"
      },
      "execution_count": null,
      "outputs": []
    },
    {
      "cell_type": "code",
      "source": [
        "import yaml\n",
        "\n",
        "yaml_data = {\"names\":['broken'], # 클래스 이름\n",
        "             \"nc\":1, # 클래스 수\n",
        "             \"path\":\"/content/drive/MyDrive/yolov5/DATA\", # root 경로\n",
        "             \"train\":(\"train.txt\"), # train.txt 경로\n",
        "             \"val\":(\"valid.txt\"), # valid.txt 경로\n",
        "             # \"test\":os.path.join(root_dir,\"test.txt\") # test.txt 경로\n",
        "             }\n",
        "\n",
        "with open((\"custom.yaml\"), \"w\") as f:\n",
        "  yaml.dump(yaml_data, f)"
      ],
      "metadata": {
        "id": "D6d7eo3xFsum"
      },
      "execution_count": null,
      "outputs": []
    },
    {
      "cell_type": "markdown",
      "source": [
        "#### YOLOv5 실행\n",
        "- 각 파라메터 뜻 https://ropiens.tistory.com/44\n",
        "- https://github.com/ultralytics/yolov5/blob/master/data/coco128.yaml\n",
        "- https://sguys99.github.io/ds01\n",
        "\n",
        "GPU 사용량\n",
        "- https://github.com/ultralytics/yolov5/issues/8397\n",
        "\n",
        "wandb 사용\n",
        "- https://lynnshin.tistory.com/47#google_vignette"
      ],
      "metadata": {
        "id": "lZ0tCPL_vbcZ"
      }
    },
    {
      "cell_type": "code",
      "source": [
        "%cd /content/drive/MyDrive/yolov5/YOLO/yolov5"
      ],
      "metadata": {
        "id": "Uy3yjEfRkV1R"
      },
      "execution_count": null,
      "outputs": []
    },
    {
      "cell_type": "code",
      "source": [
        "!python train.py --img 416 --batch 16 --epochs 10 --data /content/drive/MyDrive/yolov5/DATA/custom.yaml --cfg ./models/yolov5m.yaml --weights yolov5m.pt --name results"
      ],
      "metadata": {
        "id": "fzj16vSIGf6Z"
      },
      "execution_count": null,
      "outputs": []
    },
    {
      "cell_type": "code",
      "source": [
        "!python detect.py --weights /content/drive/MyDrive/yolov5/YOLO/yolov5/runs/train/results2/weights/best.pt --source /content/drive/MyDrive/yolov5/DATA/brokenData/images/*.jpg"
      ],
      "metadata": {
        "id": "1S1vvqKGxNCp"
      },
      "execution_count": null,
      "outputs": []
    },
    {
      "cell_type": "code",
      "source": [
        "#  runs/train/results13"
      ],
      "metadata": {
        "id": "UDoufVJjmcW6"
      },
      "execution_count": null,
      "outputs": []
    }
  ]
}